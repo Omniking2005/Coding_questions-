{
  "nbformat": 4,
  "nbformat_minor": 0,
  "metadata": {
    "colab": {
      "name": "Three Number Sum",
      "provenance": [],
      "collapsed_sections": []
    },
    "kernelspec": {
      "name": "python3",
      "display_name": "Python 3"
    }
  },
  "cells": [
    {
      "cell_type": "markdown",
      "metadata": {
        "id": "LNbzGTBxEjWL"
      },
      "source": [
        "# **Three Number Sum**\r\n",
        "\r\n",
        "Given an array and a value, find if there is a triplet in array whose sum is equal to the given value. If there is such a triplet present in array, then print the triplet and return true. Else return false. \r\n",
        "\r\n",
        "Example:\r\n",
        "\r\n",
        "\r\n",
        "*   Input: array = {12, 3, 4, 1, 6, 9}, sum = 24;\r\n",
        "*   Output: 12, 3, 9\r\n",
        "*   Explanation: There is a triplet (12, 3 and 9) present in the array whose sum is 24. \r\n",
        "\r\n",
        "\r\n",
        "*   Input: array = {1, 2, 3, 4, 5}, sum = 9\r\n",
        "*   Output: 5, 3, 1\r\n",
        "*   Explanation: There is a triplet (5, 3 and 1) present in the array whose sum is 9. \r\n",
        "\r\n",
        "\r\n",
        "\r\n",
        "\r\n",
        "\r\n"
      ]
    },
    {
      "cell_type": "markdown",
      "metadata": {
        "id": "tyRuSMYbFfSp"
      },
      "source": [
        "# **Answer**"
      ]
    },
    {
      "cell_type": "code",
      "metadata": {
        "id": "6hra0KnJEXJz"
      },
      "source": [
        "def mainfun(a,b):\r\n",
        "  ans = []\r\n",
        "  aa = len(a) - 1 \r\n",
        "  n = 3\r\n",
        "  for i in range(aa):\r\n",
        "    for f in range(len(a)-i):\r\n",
        "      y = f + i\r\n",
        "      for c in range(len(a)-y):\r\n",
        "        x = c + y\r\n",
        "        q = a[i]+a[y] + a[x]\r\n",
        "        if q == b and i != y and x > y and i != x:\r\n",
        "          ans.append(a[i])\r\n",
        "          ans.append(a[y])\r\n",
        "          ans.append(a[x])\r\n",
        "           \r\n",
        "  return [ans[i * n:(i + 1) * n] for i in range((len(ans) // n ))] "
      ],
      "execution_count": 1,
      "outputs": []
    },
    {
      "cell_type": "code",
      "metadata": {
        "colab": {
          "base_uri": "https://localhost:8080/"
        },
        "id": "WDbpFYX0HfOU",
        "outputId": "ed2c2faa-058c-4b60-835e-977e35f64709"
      },
      "source": [
        "a = [5, 1, 22, 14, 6, -1, 8, 10]\r\n",
        "b = 20\r\n",
        "answer = mainfun(a,b)\r\n",
        "print('There is/are a triplet {} present in the array whose sum is {}.'.format(answer,b))"
      ],
      "execution_count": 2,
      "outputs": [
        {
          "output_type": "stream",
          "text": [
            "There is/are a triplet [[5, 1, 14]] present in the array whose sum is 20.\n"
          ],
          "name": "stdout"
        }
      ]
    }
  ]
}