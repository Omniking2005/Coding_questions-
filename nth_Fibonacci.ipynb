{
  "nbformat": 4,
  "nbformat_minor": 0,
  "metadata": {
    "colab": {
      "name": "nth Fibonacci",
      "provenance": []
    },
    "kernelspec": {
      "name": "python3",
      "display_name": "Python 3"
    }
  },
  "cells": [
    {
      "cell_type": "markdown",
      "metadata": {
        "id": "Tyn_Pypnhgea"
      },
      "source": [
        "# **nth Fibonacci**\n",
        "\n",
        "The Fibonacci numbers are the numbers in the following integer sequence.\n",
        "\n",
        "0, 1, 1, 2, 3, 5, 8, 13, 21, 34, 55, 89, 144, ……..\n",
        "\n",
        "In mathematical terms, the sequence Fn of Fibonacci numbers is defined by the recurrence relation \n",
        "\n",
        "Fn = Fn-1 + Fn-2\n",
        "\n",
        "with seed values \n",
        "\n",
        "F0 = 0 and F1 = 1.\n",
        "\n",
        "Example:\n",
        "\n",
        "*   Input  : n = 2\n",
        "*    Output : 1\n",
        "\n",
        "\n",
        "*   Input  : n = 9\n",
        "*   Output : 34\n",
        "\n"
      ]
    },
    {
      "cell_type": "markdown",
      "metadata": {
        "id": "VJXqnGbylF0K"
      },
      "source": [
        "# **Answer**"
      ]
    },
    {
      "cell_type": "code",
      "metadata": {
        "id": "rDd7VYIulJ54"
      },
      "source": [
        "def mainfuc(a):\n",
        "  b = 1\n",
        "  fx = 0\n",
        "  fn = 0\n",
        "  for i in range(a-1):\n",
        "    fn = fx + b \n",
        "    b = fx\n",
        "    fx = fn\n",
        "\n",
        "  return fn"
      ],
      "execution_count": 12,
      "outputs": []
    },
    {
      "cell_type": "code",
      "metadata": {
        "colab": {
          "base_uri": "https://localhost:8080/"
        },
        "id": "2CesMeDbmprw",
        "outputId": "80d35786-402c-4557-df7f-8798c681d7d0"
      },
      "source": [
        "print([mainfuc(x) for x in range(20)])"
      ],
      "execution_count": 17,
      "outputs": [
        {
          "output_type": "stream",
          "text": [
            "[0, 0, 1, 1, 2, 3, 5, 8, 13, 21, 34, 55, 89, 144, 233, 377, 610, 987, 1597, 2584]\n"
          ],
          "name": "stdout"
        }
      ]
    },
    {
      "cell_type": "code",
      "metadata": {
        "id": "CErJ2CgwmtpW"
      },
      "source": [
        ""
      ],
      "execution_count": null,
      "outputs": []
    }
  ]
}