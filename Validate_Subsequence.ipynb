{
  "nbformat": 4,
  "nbformat_minor": 0,
  "metadata": {
    "colab": {
      "name": "Validate Subsequence",
      "provenance": []
    },
    "kernelspec": {
      "name": "python3",
      "display_name": "Python 3"
    }
  },
  "cells": [
    {
      "cell_type": "markdown",
      "metadata": {
        "id": "SdOScXJLBrrN"
      },
      "source": [
        "# **Validate Subsequence**\n",
        "\n",
        "Check whether an Array is Subarray of another Array.\n",
        "Given two arrays A[ ] and B[ ] consisting of n and m integers. The task is to check whether the array B[ ] is a subarray of the array A[] or not.\n",
        "\n",
        "Examples:\n",
        "\n",
        "1.   Input : A[ ] = {2, 3, 0, 5, 1, 1, 2}, \n",
        "     \n",
        "     B[ ] = {3, 0, 5, 1}\n",
        "\n",
        "     Output : Yes\n",
        "\n",
        "2.   Input : A[ ] = {1, 2, 3, 4, 5},\n",
        "     \n",
        "     B[ ] = {2, 5, 6}\n",
        "\n",
        "     Output : No\n",
        "\n",
        "\n",
        "\n",
        "\n"
      ]
    },
    {
      "cell_type": "markdown",
      "metadata": {
        "id": "LU0DS1HhEppw"
      },
      "source": [
        "Answer "
      ]
    },
    {
      "cell_type": "code",
      "metadata": {
        "id": "WW9PoliUExHo"
      },
      "source": [
        "\n",
        "def mainfuc(a,b):\n",
        "  aa = len(b)\n",
        "  p = 0\n",
        "\n",
        "  for i in range(len(a)):\n",
        "    for f in range(aa):\n",
        "      if a[i] == b[f] :\n",
        "        p += 1   \n",
        "\n",
        "  if aa == p:\n",
        "    print(\"yes\")\n",
        "  else :\n",
        "    print(\"no\")\n",
        "    \n",
        "  pass\n",
        "  \n",
        "  "
      ],
      "execution_count": 1,
      "outputs": []
    },
    {
      "cell_type": "code",
      "metadata": {
        "colab": {
          "base_uri": "https://localhost:8080/"
        },
        "id": "pjGCc5eXLUiQ",
        "outputId": "326f5e6c-adf6-43d3-b4d7-d97aba615815"
      },
      "source": [
        "a = [5, 1, 22, 25, 6, -1, 8, 10] \n",
        "b =  [1, 6, -1, 10]\n",
        "\n",
        "mainfuc(a,b)"
      ],
      "execution_count": 2,
      "outputs": [
        {
          "output_type": "stream",
          "text": [
            "yes\n"
          ],
          "name": "stdout"
        }
      ]
    }
  ]
}