{
  "nbformat": 4,
  "nbformat_minor": 0,
  "metadata": {
    "colab": {
      "name": "Two Number Sum",
      "provenance": []
    },
    "kernelspec": {
      "name": "python3",
      "display_name": "Python 3"
    }
  },
  "cells": [
    {
      "cell_type": "markdown",
      "metadata": {
        "id": "17i7Q-eLBJoT"
      },
      "source": [
        "# **Two Number Sum**\n",
        "\n",
        "Given an array of integers, return indices of the two numbers such that they add up to a specific target.\n",
        "\n",
        "Assume that each input would have exactly one solution, and may not use the same element twice.\n",
        "\n",
        "Example:\n",
        "\n",
        "*   Given nums = [2, 7, 11, 15]\n",
        "*   target = 9\n",
        "*   Answer = [2, 7]\n",
        "\n",
        "\n",
        "*   Given nums = [5, 1, 22, 14, 6, -1, 8, 10] \n",
        "*   target = 30\n",
        "*   Answer = [22, 8]\n",
        "\n",
        "\n",
        "\n",
        "\n",
        "\n"
      ]
    },
    {
      "cell_type": "markdown",
      "metadata": {
        "id": "jiEHn37wDFa-"
      },
      "source": [
        "# Answer"
      ]
    },
    {
      "cell_type": "code",
      "metadata": {
        "id": "mDPrekYNC_lg"
      },
      "source": [
        "def mainfun(a,b):\n",
        "  ans = []\n",
        "  aa = len(a) - 1 \n",
        "  for i in range(aa):\n",
        "    i\n",
        "    for f in range(len(a)-i):\n",
        "      e = f + i\n",
        "      q = a[i]+a[e]\n",
        "      if q == b and i != e :\n",
        "        ans.append(a[i])\n",
        "        ans.append(a[e])\n",
        "  return ans "
      ],
      "execution_count": 1,
      "outputs": []
    },
    {
      "cell_type": "code",
      "metadata": {
        "colab": {
          "base_uri": "https://localhost:8080/"
        },
        "id": "o1XXZPraFXlZ",
        "outputId": "14fc2404-a6d5-4e2c-840a-24ba39c25cac"
      },
      "source": [
        "a = [5, 1, 22, 14, 6, -1, 8, 10]\n",
        "b = 30\n",
        "mainfun(a,b)\n"
      ],
      "execution_count": 2,
      "outputs": [
        {
          "output_type": "execute_result",
          "data": {
            "text/plain": [
              "[22, 8]"
            ]
          },
          "metadata": {
            "tags": []
          },
          "execution_count": 2
        }
      ]
    },
    {
      "cell_type": "code",
      "metadata": {
        "id": "K5Wps2SGFeQL"
      },
      "source": [
        ""
      ],
      "execution_count": 2,
      "outputs": []
    }
  ]
}